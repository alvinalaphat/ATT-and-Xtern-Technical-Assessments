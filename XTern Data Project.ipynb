{
 "cells": [
  {
   "cell_type": "markdown",
   "metadata": {},
   "source": [
    "# Data Science Project\n",
    "## By Alvin Alaphat\n",
    "\n",
    "#### Assumptions\n",
    "1. Distance between any two points is given in miles (just for reference)\n",
    "2. Since the mega bus can only park at (20.19, 20.19), it has to keep moving once scooters are picked up\n",
    "3. The bus does not need to pick up fully charged scooters\n",
    "4. Operation Time Cost does not include the time it takes to drive back to the bus station when finished\n",
    "5. The bus can charge scooters while driving"
   ]
  },
  {
   "cell_type": "code",
   "execution_count": 117,
   "metadata": {},
   "outputs": [],
   "source": [
    "import pandas as pd\n",
    "import matplotlib.pyplot as plt\n",
    "%matplotlib inline\n",
    "import seaborn as sns"
   ]
  },
  {
   "cell_type": "code",
   "execution_count": 313,
   "metadata": {},
   "outputs": [],
   "source": [
    "scoots = pd.read_csv('2019-XTern- Work Sample Assessment Data Science-DS.csv')"
   ]
  },
  {
   "cell_type": "code",
   "execution_count": 314,
   "metadata": {},
   "outputs": [
    {
     "data": {
      "text/html": [
       "<div>\n",
       "<style scoped>\n",
       "    .dataframe tbody tr th:only-of-type {\n",
       "        vertical-align: middle;\n",
       "    }\n",
       "\n",
       "    .dataframe tbody tr th {\n",
       "        vertical-align: top;\n",
       "    }\n",
       "\n",
       "    .dataframe thead th {\n",
       "        text-align: right;\n",
       "    }\n",
       "</style>\n",
       "<table border=\"1\" class=\"dataframe\">\n",
       "  <thead>\n",
       "    <tr style=\"text-align: right;\">\n",
       "      <th></th>\n",
       "      <th>scooter_id</th>\n",
       "      <th>xcoordinate</th>\n",
       "      <th>ycoordinate</th>\n",
       "      <th>power_level</th>\n",
       "    </tr>\n",
       "  </thead>\n",
       "  <tbody>\n",
       "    <tr>\n",
       "      <th>0</th>\n",
       "      <td>0</td>\n",
       "      <td>0.906835</td>\n",
       "      <td>0.776484</td>\n",
       "      <td>0</td>\n",
       "    </tr>\n",
       "    <tr>\n",
       "      <th>1</th>\n",
       "      <td>1</td>\n",
       "      <td>0.928587</td>\n",
       "      <td>0.804964</td>\n",
       "      <td>2</td>\n",
       "    </tr>\n",
       "    <tr>\n",
       "      <th>2</th>\n",
       "      <td>2</td>\n",
       "      <td>0.904091</td>\n",
       "      <td>0.784043</td>\n",
       "      <td>1</td>\n",
       "    </tr>\n",
       "    <tr>\n",
       "      <th>3</th>\n",
       "      <td>3</td>\n",
       "      <td>0.906752</td>\n",
       "      <td>0.804461</td>\n",
       "      <td>0</td>\n",
       "    </tr>\n",
       "    <tr>\n",
       "      <th>4</th>\n",
       "      <td>4</td>\n",
       "      <td>0.900641</td>\n",
       "      <td>0.781683</td>\n",
       "      <td>4</td>\n",
       "    </tr>\n",
       "  </tbody>\n",
       "</table>\n",
       "</div>"
      ],
      "text/plain": [
       "   scooter_id  xcoordinate  ycoordinate  power_level\n",
       "0           0     0.906835     0.776484            0\n",
       "1           1     0.928587     0.804964            2\n",
       "2           2     0.904091     0.784043            1\n",
       "3           3     0.906752     0.804461            0\n",
       "4           4     0.900641     0.781683            4"
      ]
     },
     "execution_count": 314,
     "metadata": {},
     "output_type": "execute_result"
    }
   ],
   "source": [
    "scoots.head()"
   ]
  },
  {
   "cell_type": "code",
   "execution_count": 315,
   "metadata": {},
   "outputs": [
    {
     "data": {
      "text/html": [
       "<div>\n",
       "<style scoped>\n",
       "    .dataframe tbody tr th:only-of-type {\n",
       "        vertical-align: middle;\n",
       "    }\n",
       "\n",
       "    .dataframe tbody tr th {\n",
       "        vertical-align: top;\n",
       "    }\n",
       "\n",
       "    .dataframe thead th {\n",
       "        text-align: right;\n",
       "    }\n",
       "</style>\n",
       "<table border=\"1\" class=\"dataframe\">\n",
       "  <thead>\n",
       "    <tr style=\"text-align: right;\">\n",
       "      <th></th>\n",
       "      <th>scooter_id</th>\n",
       "      <th>xcoordinate</th>\n",
       "      <th>ycoordinate</th>\n",
       "      <th>power_level</th>\n",
       "    </tr>\n",
       "  </thead>\n",
       "  <tbody>\n",
       "    <tr>\n",
       "      <th>count</th>\n",
       "      <td>25668.000000</td>\n",
       "      <td>25668.000000</td>\n",
       "      <td>25668.000000</td>\n",
       "      <td>25668.000000</td>\n",
       "    </tr>\n",
       "    <tr>\n",
       "      <th>mean</th>\n",
       "      <td>12833.500000</td>\n",
       "      <td>0.491567</td>\n",
       "      <td>0.437083</td>\n",
       "      <td>2.496065</td>\n",
       "    </tr>\n",
       "    <tr>\n",
       "      <th>std</th>\n",
       "      <td>7409.857691</td>\n",
       "      <td>0.474552</td>\n",
       "      <td>0.515695</td>\n",
       "      <td>1.719245</td>\n",
       "    </tr>\n",
       "    <tr>\n",
       "      <th>min</th>\n",
       "      <td>0.000000</td>\n",
       "      <td>-0.300062</td>\n",
       "      <td>-0.290196</td>\n",
       "      <td>0.000000</td>\n",
       "    </tr>\n",
       "    <tr>\n",
       "      <th>25%</th>\n",
       "      <td>6416.750000</td>\n",
       "      <td>0.211375</td>\n",
       "      <td>-0.025581</td>\n",
       "      <td>1.000000</td>\n",
       "    </tr>\n",
       "    <tr>\n",
       "      <th>50%</th>\n",
       "      <td>12833.500000</td>\n",
       "      <td>0.403102</td>\n",
       "      <td>0.312886</td>\n",
       "      <td>2.000000</td>\n",
       "    </tr>\n",
       "    <tr>\n",
       "      <th>75%</th>\n",
       "      <td>19250.250000</td>\n",
       "      <td>0.929187</td>\n",
       "      <td>0.883513</td>\n",
       "      <td>4.000000</td>\n",
       "    </tr>\n",
       "    <tr>\n",
       "      <th>max</th>\n",
       "      <td>25667.000000</td>\n",
       "      <td>1.369517</td>\n",
       "      <td>1.357176</td>\n",
       "      <td>5.000000</td>\n",
       "    </tr>\n",
       "  </tbody>\n",
       "</table>\n",
       "</div>"
      ],
      "text/plain": [
       "         scooter_id   xcoordinate   ycoordinate   power_level\n",
       "count  25668.000000  25668.000000  25668.000000  25668.000000\n",
       "mean   12833.500000      0.491567      0.437083      2.496065\n",
       "std     7409.857691      0.474552      0.515695      1.719245\n",
       "min        0.000000     -0.300062     -0.290196      0.000000\n",
       "25%     6416.750000      0.211375     -0.025581      1.000000\n",
       "50%    12833.500000      0.403102      0.312886      2.000000\n",
       "75%    19250.250000      0.929187      0.883513      4.000000\n",
       "max    25667.000000      1.369517      1.357176      5.000000"
      ]
     },
     "execution_count": 315,
     "metadata": {},
     "output_type": "execute_result"
    }
   ],
   "source": [
    "scoots.describe()"
   ]
  },
  {
   "cell_type": "code",
   "execution_count": 316,
   "metadata": {},
   "outputs": [
    {
     "name": "stdout",
     "output_type": "stream",
     "text": [
      "<class 'pandas.core.frame.DataFrame'>\n",
      "RangeIndex: 25668 entries, 0 to 25667\n",
      "Data columns (total 4 columns):\n",
      "scooter_id     25668 non-null int64\n",
      "xcoordinate    25668 non-null float64\n",
      "ycoordinate    25668 non-null float64\n",
      "power_level    25668 non-null int64\n",
      "dtypes: float64(2), int64(2)\n",
      "memory usage: 802.2 KB\n"
     ]
    }
   ],
   "source": [
    "scoots.info()"
   ]
  },
  {
   "cell_type": "markdown",
   "metadata": {},
   "source": [
    "## Truncate to two decimals for simplicity."
   ]
  },
  {
   "cell_type": "code",
   "execution_count": 317,
   "metadata": {},
   "outputs": [],
   "source": [
    "scoots['xcoordinate'] = scoots['xcoordinate'].apply(lambda x: float('%.2f'%(x)))\n",
    "scoots['ycoordinate'] = scoots['ycoordinate'].apply(lambda x: float('%.2f'%(x)))"
   ]
  },
  {
   "cell_type": "markdown",
   "metadata": {},
   "source": [
    "## Create a visual analysis of the data plotted independently to get an idea of where there is a higher frequency along each axis. "
   ]
  },
  {
   "cell_type": "code",
   "execution_count": 318,
   "metadata": {},
   "outputs": [
    {
     "data": {
      "text/plain": [
       "<matplotlib.axes._subplots.AxesSubplot at 0x1a27864240>"
      ]
     },
     "execution_count": 318,
     "metadata": {},
     "output_type": "execute_result"
    },
    {
     "data": {
      "image/png": "[encoded data removed]",
      "text/plain": [
       "<Figure size 432x288 with 1 Axes>"
      ]
     },
     "metadata": {
      "needs_background": "light"
     },
     "output_type": "display_data"
    }
   ],
   "source": [
    "scoots['xcoordinate'].plot(kind='hist',bins=100,ec='black', alpha=.5, legend=True)\n",
    "scoots['ycoordinate'].plot(kind='hist', bins=100, ec='black', alpha=.2, legend=True)"
   ]
  },
  {
   "cell_type": "markdown",
   "metadata": {},
   "source": [
    "## There's a strange spike at about .25 on the x axis. We'll need to take a closer look."
   ]
  },
  {
   "cell_type": "code",
   "execution_count": 319,
   "metadata": {},
   "outputs": [],
   "source": [
    "import geopandas as gpd\n",
    "from scipy import ndimage\n",
    "from shapely.geometry import Point\n",
    "import matplotlib.pylab as pylab\n",
    "from geopandas import GeoDataFrame"
   ]
  },
  {
   "cell_type": "code",
   "execution_count": 323,
   "metadata": {
    "scrolled": false
   },
   "outputs": [
    {
     "data": {
      "text/plain": [
       "<matplotlib.axes._subplots.AxesSubplot at 0x1a29482e80>"
      ]
     },
     "execution_count": 323,
     "metadata": {},
     "output_type": "execute_result"
    },
    {
     "data": {
      "image/png": "[encoded data removed]",
      "text/plain": [
       "<Figure size 432x288 with 1 Axes>"
      ]
     },
     "metadata": {
      "needs_background": "light"
     },
     "output_type": "display_data"
    }
   ],
   "source": [
    "gdf = gpd.GeoDataFrame(scoots, geometry='geometry', crs={'init': 'epsg:4326'})\n",
    "gdf['geometry'].plot()"
   ]
  },
  {
   "cell_type": "markdown",
   "metadata": {},
   "source": [
    "## This plot shows that we have two clusters. The gap in between the clusters could represent an untraversable region such as a body of water or a crowded area. Or, the clusters could represent places of recreation where scooters are popular such as a park. \n",
    "\n",
    "## We'll probably need a heatmap to get more info. "
   ]
  },
  {
   "cell_type": "code",
   "execution_count": 322,
   "metadata": {},
   "outputs": [],
   "source": [
    "scoots[\"geometry\"] = scoots.apply(lambda x: Point(x[\"xcoordinate\"], x[\"ycoordinate\"]), axis = 1)\n",
    "def heatmap(d, bins=(100,100), smoothing=1.3, cmap='jet'):\n",
    "    def getx(pt):\n",
    "        return pt.coords[0][0]\n",
    "\n",
    "    def gety(pt):\n",
    "        return pt.coords[0][1]\n",
    "\n",
    "    x = list(d.geometry.apply(getx))\n",
    "    y = list(d.geometry.apply(gety))\n",
    "    heatmap, xedges, yedges = np.histogram2d(y, x, bins=bins)\n",
    "    extent = [yedges[0], yedges[-1], xedges[-1], xedges[0]]\n",
    "\n",
    "    logheatmap = np.log(heatmap)\n",
    "    logheatmap[np.isneginf(logheatmap)] = 0\n",
    "    logheatmap = ndimage.filters.gaussian_filter(logheatmap, smoothing, mode='nearest')\n",
    "    \n",
    "    plt.imshow(logheatmap, cmap=cmap, extent=extent)\n",
    "    plt.colorbar()\n",
    "    plt.gca().invert_yaxis()\n",
    "    plt.show()"
   ]
  },
  {
   "cell_type": "code",
   "execution_count": 121,
   "metadata": {},
   "outputs": [
    {
     "name": "stderr",
     "output_type": "stream",
     "text": [
      "/Users/alvinalaphat/anaconda3/lib/python3.7/site-packages/ipykernel_launcher.py:15: RuntimeWarning: divide by zero encountered in log\n",
      "  from ipykernel import kernelapp as app\n"
     ]
    },
    {
     "data": {
      "image/png": "[encoded data removed]",
      "text/plain": [
       "<Figure size 432x288 with 2 Axes>"
      ]
     },
     "metadata": {
      "needs_background": "light"
     },
     "output_type": "display_data"
    }
   ],
   "source": [
    "heatmap(gdf, bins=50, smoothing=1.5)"
   ]
  },
  {
   "cell_type": "markdown",
   "metadata": {},
   "source": [
    "## This heatmap is very good to examine the highly populated areas. We can check out those x coordinates around .25 more closely now. Also, I'm noticing a lot of activity around (1.0,0.8), (-0.25,0.05), (0.25,-0.1), (1.30,0.9).\n",
    "\n",
    "## Let's evaluate them."
   ]
  },
  {
   "cell_type": "code",
   "execution_count": 188,
   "metadata": {},
   "outputs": [],
   "source": [
    "pivot = pd.pivot_table(values=['power_level'], data=scoots, index=['xcoordinate','ycoordinate'])"
   ]
  },
  {
   "cell_type": "code",
   "execution_count": 189,
   "metadata": {},
   "outputs": [
    {
     "data": {
      "text/plain": [
       "<matplotlib.axes._subplots.AxesSubplot at 0x1a2840d9b0>"
      ]
     },
     "execution_count": 189,
     "metadata": {},
     "output_type": "execute_result"
    },
    {
     "data": {
      "image/png": "[encoded data removed]",
      "text/plain": [
       "<Figure size 432x288 with 2 Axes>"
      ]
     },
     "metadata": {
      "needs_background": "light"
     },
     "output_type": "display_data"
    }
   ],
   "source": [
    "sns.heatmap(pivot)"
   ]
  },
  {
   "cell_type": "markdown",
   "metadata": {},
   "source": [
    "### This heatmap of the power levels confirms that most scooters in the popular locations are on very low power\n",
    "\n",
    "### Let's estimate points where these popular locations are centered and see about what % of the data they represent"
   ]
  },
  {
   "cell_type": "code",
   "execution_count": 198,
   "metadata": {},
   "outputs": [
    {
     "name": "stdout",
     "output_type": "stream",
     "text": [
      "Point: (0.25,-0.1)\n",
      "1334 scooters \n",
      "% of Data:  5.197132616487455 %\n",
      "\n",
      "Point: (1.0,0.8)\n",
      "3306 scooters \n",
      "% of Data:  12.879850397381954 %\n",
      "\n",
      "Point: (-0.25,0.05)\n",
      "1293 scooters \n",
      "% of Data:  5.037400654511455 %\n",
      "\n",
      "Point: (1.30,0.9)\n",
      "1517 scooters \n",
      "% of Data:  5.910082593112046 %\n"
     ]
    }
   ],
   "source": [
    "region1 = len(scoots[(scoots['xcoordinate'] > .2) & (scoots['xcoordinate'] < .3) & (scoots['ycoordinate'] < -.2)])\n",
    "region2 = len(scoots[(scoots['ycoordinate'] > .7) & (scoots['ycoordinate'] < .9) & (scoots['xcoordinate'] < 1) & (scoots['xcoordinate'] > .8)])\n",
    "region3 = len(scoots[(scoots['ycoordinate'] > 0) & (scoots['ycoordinate'] < .2) & (scoots['xcoordinate'] < -.2)])\n",
    "region4 = len(scoots[(scoots['xcoordinate'] > 1.25)])\n",
    "\n",
    "print('Point: (0.25,-0.1)') \n",
    "print(region1, 'scooters', '\\n% of Data: ', region1/len(scoots)*100, '%')\n",
    "print()\n",
    "print('Point: (1.0,0.8)')\n",
    "print(region2, 'scooters', '\\n% of Data: ', region2/len(scoots)*100, '%')\n",
    "print()\n",
    "print('Point: (-0.25,0.05)')\n",
    "print(region3, 'scooters', '\\n% of Data: ', region3/len(scoots)*100, '%')\n",
    "print()\n",
    "print('Point: (1.30,0.9)')\n",
    "print(region4, 'scooters', '\\n% of Data: ', region4/len(scoots)*100, '%')"
   ]
  },
  {
   "cell_type": "markdown",
   "metadata": {},
   "source": [
    "### There are two clusters where scooters get used a lot and the most populated location is (1.0, 0.8) which is in the top right cluster.  "
   ]
  },
  {
   "cell_type": "code",
   "execution_count": 47,
   "metadata": {},
   "outputs": [
    {
     "data": {
      "text/plain": [
       "<seaborn.axisgrid.JointGrid at 0x1a20064588>"
      ]
     },
     "execution_count": 47,
     "metadata": {},
     "output_type": "execute_result"
    },
    {
     "data": {
      "image/png": "[encoded data removed]",
      "text/plain": [
       "<Figure size 432x432 with 3 Axes>"
      ]
     },
     "metadata": {
      "needs_background": "light"
     },
     "output_type": "display_data"
    }
   ],
   "source": [
    "sns.jointplot(x='xcoordinate', y='ycoordinate', data=scoots, kind='kde',)"
   ]
  },
  {
   "cell_type": "markdown",
   "metadata": {},
   "source": [
    "## While the most popular locations appear to be heavily concentrated around the point (1.0, 0.8), there is a greater spread around the points centered at (0.25, 0) which could also be considered the most popular location. \n",
    "\n",
    "Greatest "
   ]
  },
  {
   "cell_type": "code",
   "execution_count": 162,
   "metadata": {
    "scrolled": true
   },
   "outputs": [
    {
     "data": {
      "text/plain": [
       "0    591\n",
       "4    567\n",
       "3    552\n",
       "5    548\n",
       "1    528\n",
       "2    520\n",
       "Name: power_level, dtype: int64"
      ]
     },
     "execution_count": 162,
     "metadata": {},
     "output_type": "execute_result"
    }
   ],
   "source": [
    "pop_region = scoots[(scoots['ycoordinate'] > .7) & (scoots['ycoordinate'] < .9) & (scoots['xcoordinate'] < 1) & (scoots['xcoordinate'] > .8)]\n",
    "pop_region['power_level'].value_counts()"
   ]
  },
  {
   "cell_type": "code",
   "execution_count": 177,
   "metadata": {
    "scrolled": true
   },
   "outputs": [
    {
     "data": {
      "text/plain": [
       "(array([4388.,    0., 4248.,    0., 4245.,    0., 4160.,    0., 4284.,\n",
       "        4343.]),\n",
       " array([0. , 0.5, 1. , 1.5, 2. , 2.5, 3. , 3.5, 4. , 4.5, 5. ]),\n",
       " <a list of 10 Patch objects>)"
      ]
     },
     "execution_count": 177,
     "metadata": {},
     "output_type": "execute_result"
    },
    {
     "data": {
      "image/png": "[encoded data removed]",
      "text/plain": [
       "<Figure size 432x288 with 1 Axes>"
      ]
     },
     "metadata": {
      "needs_background": "light"
     },
     "output_type": "display_data"
    }
   ],
   "source": [
    "plt.hist(scoots['power_level'])"
   ]
  },
  {
   "cell_type": "markdown",
   "metadata": {},
   "source": [
    "## There's a fairly uniform distribution of power levels across all locations collectively with slightly more scooters being on zero power."
   ]
  },
  {
   "cell_type": "code",
   "execution_count": 184,
   "metadata": {},
   "outputs": [
    {
     "data": {
      "text/plain": [
       "(array([591.,   0., 528.,   0., 520.,   0., 552.,   0., 567., 548.]),\n",
       " array([0. , 0.5, 1. , 1.5, 2. , 2.5, 3. , 3.5, 4. , 4.5, 5. ]),\n",
       " <a list of 10 Patch objects>)"
      ]
     },
     "execution_count": 184,
     "metadata": {},
     "output_type": "execute_result"
    },
    {
     "data": {
      "image/png": "[encoded data removed]",
      "text/plain": [
       "<Figure size 432x288 with 1 Axes>"
      ]
     },
     "metadata": {
      "needs_background": "light"
     },
     "output_type": "display_data"
    }
   ],
   "source": [
    "plt.hist(pop_region['power_level'])"
   ]
  },
  {
   "cell_type": "markdown",
   "metadata": {},
   "source": [
    "## As expected, most scooters in the most popular location have no power. "
   ]
  },
  {
   "cell_type": "markdown",
   "metadata": {},
   "source": [
    "# Calculate Operation Time Cost"
   ]
  },
  {
   "cell_type": "markdown",
   "metadata": {},
   "source": [
    "## Find the distance from the bus station"
   ]
  },
  {
   "cell_type": "code",
   "execution_count": 84,
   "metadata": {},
   "outputs": [],
   "source": [
    "import numpy as np\n",
    "def comp_distance(x, y):\n",
    "    return np.sqrt(((x-(20.19))**2) + ((y-(20.19))**2))\n",
    "\n",
    "scoots['distance'] = comp_distance(scoots['xcoordinate'],scoots['ycoordinate'])"
   ]
  },
  {
   "cell_type": "markdown",
   "metadata": {},
   "source": [
    "### It appears that the bus is about the same distance from all the scooters, ranging from 26.76-28.86 miles away, so if the bus travels at 50 mph, it would take between .535-.577 hours to travel to these locations. "
   ]
  },
  {
   "cell_type": "markdown",
   "metadata": {},
   "source": [
    "### Since the bus does not need to pick up fully charged scooters, we can ignore those scooters"
   ]
  },
  {
   "cell_type": "code",
   "execution_count": 291,
   "metadata": {},
   "outputs": [],
   "source": [
    "drained = scoots[scoots['power_level'] != 5].reset_index(drop=True)"
   ]
  },
  {
   "cell_type": "code",
   "execution_count": 301,
   "metadata": {},
   "outputs": [],
   "source": [
    "def total_time(data):\n",
    "    op_time = 0\n",
    "    for x in range(1, len(data)):\n",
    "        distance = np.sqrt((((data['xcoordinate'][x]) - (data['xcoordinate'][x-1]))**2) + (((data['ycoordinate'][x]) - (data['ycoordinate'][x-1]))**2))\n",
    "        charge_time = 5 - data['power_level'][x]\n",
    "        travel_time = distance/50\n",
    "        op_time = op_time + (charge_time - travel_time)\n",
    "    return op_time"
   ]
  },
  {
   "cell_type": "markdown",
   "metadata": {},
   "source": [
    "### Account for time for bus to leave station and arrive at the first scooter"
   ]
  },
  {
   "cell_type": "code",
   "execution_count": 312,
   "metadata": {
    "scrolled": true
   },
   "outputs": [
    {
     "name": "stdout",
     "output_type": "stream",
     "text": [
      "Operation Time Cost: 64258.40 hours\n"
     ]
    }
   ],
   "source": [
    "time_to_first = (np.sqrt((((drained['xcoordinate'][0]) - 20.19)**2) + (((drained['ycoordinate'][0]) - 20.19)**2)))/50\n",
    "\n",
    "print('Operation Time Cost: %.2f'%float(total_time(drained) + time_to_first), 'hours')"
   ]
  },
  {
   "cell_type": "markdown",
   "metadata": {},
   "source": [
    "## Find the most efficient scooter charging strategy\n",
    "\n",
    "### To be the most efficient, the bus should go to the scooters closest to the bus station first since it won't be able to charge any scooters on the initial ride over. From there, the bus should go to the scooters nearest to the scooter it was just at, but making sure to stay within one cluster before moving to the next."
   ]
  },
  {
   "cell_type": "code",
   "execution_count": 202,
   "metadata": {},
   "outputs": [
    {
     "data": {
      "text/html": [
       "<div>\n",
       "<style scoped>\n",
       "    .dataframe tbody tr th:only-of-type {\n",
       "        vertical-align: middle;\n",
       "    }\n",
       "\n",
       "    .dataframe tbody tr th {\n",
       "        vertical-align: top;\n",
       "    }\n",
       "\n",
       "    .dataframe thead th {\n",
       "        text-align: right;\n",
       "    }\n",
       "</style>\n",
       "<table border=\"1\" class=\"dataframe\">\n",
       "  <thead>\n",
       "    <tr style=\"text-align: right;\">\n",
       "      <th></th>\n",
       "      <th>scooter_id</th>\n",
       "      <th>xcoordinate</th>\n",
       "      <th>ycoordinate</th>\n",
       "      <th>power_level</th>\n",
       "      <th>distance</th>\n",
       "      <th>geometry</th>\n",
       "    </tr>\n",
       "  </thead>\n",
       "  <tbody>\n",
       "    <tr>\n",
       "      <th>2809</th>\n",
       "      <td>2809</td>\n",
       "      <td>1.2</td>\n",
       "      <td>1.34</td>\n",
       "      <td>4</td>\n",
       "      <td>26.757104</td>\n",
       "      <td>POINT (1.20000 1.34000)</td>\n",
       "    </tr>\n",
       "  </tbody>\n",
       "</table>\n",
       "</div>"
      ],
      "text/plain": [
       "      scooter_id  xcoordinate  ycoordinate  power_level   distance  \\\n",
       "2809        2809          1.2         1.34            4  26.757104   \n",
       "\n",
       "                     geometry  \n",
       "2809  POINT (1.20000 1.34000)  "
      ]
     },
     "execution_count": 202,
     "metadata": {},
     "output_type": "execute_result"
    }
   ],
   "source": [
    "scoots[scoots['distance'] == scoots['distance'].min()]"
   ]
  },
  {
   "cell_type": "markdown",
   "metadata": {},
   "source": [
    "### To be the most effective, the bus should go to the most popular locations where most of the scooters are at zero power. Since the most popular location, (1.0, 0.8), is in the top right cluster, the bus should travel to the top right cluster first. After picking up all the scooters in that region, the bus should then go to the next popular location in that cluster, continuing until all the scooters in one cluster have been taken care of. After that, the bus should start with the most popular locations in the bottom right cluster, (-0.25,0.05) and (0.25,-0.1), and continue the process. "
   ]
  },
  {
   "cell_type": "markdown",
   "metadata": {},
   "source": [
    "## I look forward to hearing back from you. Feel free to reach out to me if you have any questions."
   ]
  },
  {
   "cell_type": "code",
   "execution_count": null,
   "metadata": {},
   "outputs": [],
   "source": []
  }
 ],
 "metadata": {
  "kernelspec": {
   "display_name": "Python 3",
   "language": "python",
   "name": "python3"
  },
  "language_info": {
   "codemirror_mode": {
    "name": "ipython",
    "version": 3
   },
   "file_extension": ".py",
   "mimetype": "text/x-python",
   "name": "python",
   "nbconvert_exporter": "python",
   "pygments_lexer": "ipython3",
   "version": "3.7.3"
  }
 },
 "nbformat": 4,
 "nbformat_minor": 2
}
