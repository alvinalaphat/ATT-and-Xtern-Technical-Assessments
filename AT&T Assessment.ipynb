{
 "cells": [
  {
   "cell_type": "markdown",
   "metadata": {},
   "source": [
    "# AT&T Technical Assessment\n",
    "## By Alvin Alaphat"
   ]
  },
  {
   "cell_type": "code",
   "execution_count": 1,
   "metadata": {},
   "outputs": [],
   "source": [
    "import datetime\n",
    "from operator import attrgetter"
   ]
  },
  {
   "cell_type": "markdown",
   "metadata": {},
   "source": [
    "### Base class animal initializes attributes that all the animals which in this case is name, bday, and color\n",
    "\n",
    "### The provided helper functions and dictionary find the most common species, the oldest of that species, and format the user input for each animal's birth date.  "
   ]
  },
  {
   "cell_type": "code",
   "execution_count": 2,
   "metadata": {},
   "outputs": [],
   "source": [
    "class Animal():\n",
    "        \n",
    "    species_track = {'dog': [], 'cat': [], 'sheep': []}\n",
    "    \n",
    "    def __init__(self, name, bday, color):\n",
    "        self.name = name\n",
    "        self.bday = datetime.datetime.strptime(bday,'%m/%d/%Y')\n",
    "        self.color = color\n",
    "       \n",
    "    @classmethod\n",
    "    def common_species(cls):\n",
    "        maxval = max([len(cls.species_track[x]) for x in cls.species_track if isinstance(cls.species_track[x], list)])\n",
    "        return [a for a in cls.species_track.values() if len(a) == maxval][0]\n",
    "        \n",
    "    def oldest(self, animal):\n",
    "        return min(animal,key=attrgetter('bday'))"
   ]
  },
  {
   "cell_type": "markdown",
   "metadata": {},
   "source": [
    "### The following Dog, Cat, and Sheep functions inherit from the Animal class and provide their own functions that are specific to the animal such as its species, the sound that it makes, and how it defines itself in a sentence."
   ]
  },
  {
   "cell_type": "code",
   "execution_count": 3,
   "metadata": {},
   "outputs": [],
   "source": [
    "class Dog(Animal):\n",
    "        \n",
    "    def __init__(self, name, bday, color, species):\n",
    "        super().__init__(name, bday, color)\n",
    "        self.species = species\n",
    "        \n",
    "    def speak(self):\n",
    "        return 'bark!'\n",
    "        \n",
    "    def define(self):\n",
    "        _define = ' '.join([self.name + ', the', self.color, self.species, 'says', self.speak()])\n",
    "        return _define\n",
    "        \n",
    "class Cat(Animal):\n",
    "    def __init__(self, name, bday, color, species):\n",
    "        super().__init__(name, bday, color)\n",
    "        self.species = species\n",
    "        \n",
    "    def speak(self):\n",
    "        return 'meow!'\n",
    "        \n",
    "    def define(self):\n",
    "        _define = ' '.join([self.name + ', the', self.color, self.species, 'says', self.speak()])\n",
    "        return _define\n",
    "    \n",
    "class Sheep(Animal):\n",
    "    \n",
    "    def __init__(self, name, bday, color, species):\n",
    "        super().__init__(name, bday, color)\n",
    "        self.species = species\n",
    "        \n",
    "    def speak(self):\n",
    "        return 'baaa!'\n",
    "        \n",
    "    def define(self):\n",
    "        _define = ' '.join([self.name + ', the', self.color, self.species, 'says', self.speak()])\n",
    "        return _define"
   ]
  },
  {
   "cell_type": "markdown",
   "metadata": {},
   "source": [
    "### The function below implements all the defined class functions and runs the test against the test cases."
   ]
  },
  {
   "cell_type": "code",
   "execution_count": 4,
   "metadata": {},
   "outputs": [],
   "source": [
    "def run(animals):\n",
    "    \n",
    "    for obj in animals.split('\\n'):\n",
    "        \n",
    "        if obj != '':\n",
    "            segment = obj.split(',')\n",
    "            n = segment[0]\n",
    "            b = segment[1]\n",
    "            c = segment[2]\n",
    "            t = segment[3]\n",
    "            \n",
    "            if t == 'dog':\n",
    "                Animal.species_track['dog'].append(Dog(n, b, c, t))\n",
    "            elif t == 'cat':\n",
    "                Animal.species_track['cat'].append(Cat(n, b, c, t))\n",
    "            else:\n",
    "                Animal.species_track['sheep'].append(Sheep(n, b, c, t))\n",
    "                \n",
    "    common = Animal.common_species()\n",
    "    ans = ''.join([l.define() for l in common if l.bday == l.oldest(common).bday])\n",
    "    \n",
    "    # resetting the dict for the purpose of running multiple test cases\n",
    "    Animal.species_track = {'dog': [], 'cat': [], 'sheep': []}\n",
    "    \n",
    "    return ans"
   ]
  },
  {
   "cell_type": "markdown",
   "metadata": {},
   "source": [
    "### The following tests show that the code works against many lines of input. The first test is the one that was given by the assignment prompt. "
   ]
  },
  {
   "cell_type": "code",
   "execution_count": 5,
   "metadata": {},
   "outputs": [],
   "source": [
    "Test1 = \"\"\"\n",
    "Spike,1/1/2020,white,dog\n",
    "Sandy,3/5/2018,blue,cat\n",
    "Fluffy,2/29/2016,black,sheep\n",
    "Garfield,9/17/1998,orange,cat\n",
    "\"\"\"\n",
    "\n",
    "Test2 = \"\"\"\n",
    "Phil,1/1/2020,white,dog\n",
    "Robert,3/5/2018,blue,cat\n",
    "Gary,2/29/2016,black,sheep\n",
    "Sport,9/17/1998,orange,cat\n",
    "Chuck,4/03/1978,brown,cat\n",
    "Alvin,9/25/1998,rainbow,sheep\n",
    "Dean,8/07/1985,red,sheep\n",
    "Shand,7/23/2017,rainbow,dog\n",
    "Joe,9/11/2020,green,sheep\n",
    "Pat,2/17/2016,black,sheep\n",
    "Cam,9/18/2009,orange,dog\n",
    "Luke,1/04/1842,rainbow,sheep\n",
    "\"\"\"\n",
    "\n",
    "Test3 = \"\"\"\n",
    "Phil,1/1/2020,white,dog\n",
    "Robert,3/5/2018,blue,cat\n",
    "Gary,2/29/2016,black,sheep\n",
    "Sport,9/17/1998,orange,cat\n",
    "Chuck,4/03/1978,brown,cat\n",
    "Luke,9/25/1998,orange,sheep\n",
    "Dean,8/07/1985,red,dog\n",
    "Shand,7/23/2017,rainbow,dog\n",
    "Donald,9/11/2020,green,sheep\n",
    "Pat,2/17/2016,black,cat\n",
    "Joe,9/18/2019,turquoise,dog\n",
    "Cam,1/04/2002,purple,dog\n",
    "\"\"\""
   ]
  },
  {
   "cell_type": "code",
   "execution_count": 6,
   "metadata": {
    "scrolled": false
   },
   "outputs": [
    {
     "data": {
      "text/plain": [
       "'Garfield, the orange cat says meow!'"
      ]
     },
     "execution_count": 6,
     "metadata": {},
     "output_type": "execute_result"
    }
   ],
   "source": [
    "run(Test1)"
   ]
  },
  {
   "cell_type": "code",
   "execution_count": 7,
   "metadata": {},
   "outputs": [
    {
     "data": {
      "text/plain": [
       "'Luke, the rainbow sheep says baaa!'"
      ]
     },
     "execution_count": 7,
     "metadata": {},
     "output_type": "execute_result"
    }
   ],
   "source": [
    "run(Test2)"
   ]
  },
  {
   "cell_type": "code",
   "execution_count": 8,
   "metadata": {},
   "outputs": [
    {
     "data": {
      "text/plain": [
       "'Dean, the red dog says bark!'"
      ]
     },
     "execution_count": 8,
     "metadata": {},
     "output_type": "execute_result"
    }
   ],
   "source": [
    "run(Test3)"
   ]
  },
  {
   "cell_type": "markdown",
   "metadata": {},
   "source": [
    "## Thank you for the opportunity to apply for this program! If you have any questions, feel free to reach out to me. "
   ]
  }
 ],
 "metadata": {
  "kernelspec": {
   "display_name": "Python 3",
   "language": "python",
   "name": "python3"
  },
  "language_info": {
   "codemirror_mode": {
    "name": "ipython",
    "version": 3
   },
   "file_extension": ".py",
   "mimetype": "text/x-python",
   "name": "python",
   "nbconvert_exporter": "python",
   "pygments_lexer": "ipython3",
   "version": "3.7.2"
  }
 },
 "nbformat": 4,
 "nbformat_minor": 4
}
